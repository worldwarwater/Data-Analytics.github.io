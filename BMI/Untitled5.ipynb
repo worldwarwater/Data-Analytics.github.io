{
 "cells": [
  {
   "cell_type": "code",
   "execution_count": 5,
   "id": "5741c39b-0c64-4596-8d02-c8a6fd458627",
   "metadata": {},
   "outputs": [
    {
     "name": "stdin",
     "output_type": "stream",
     "text": [
      "Enter your name:  stephen\n",
      "Enter your weight in pounds:  205\n",
      "Enter your height (feet.inches, e.g., 6.1 for 6 feet 1 inch):  6.1\n"
     ]
    },
    {
     "name": "stdout",
     "output_type": "stream",
     "text": [
      "\n",
      "stephen, your BMI is: 27.04\n",
      "You are classified as: Overweight\n"
     ]
    }
   ],
   "source": [
    "def calculate_bmi():\n",
    "    try:\n",
    "        # User input\n",
    "        name = input(\"Enter your name: \")\n",
    "        weight = float(input(\"Enter your weight in pounds: \"))\n",
    "\n",
    "        # Input height in feet and inches (e.g., 6.1 for 6 feet 1 inch)\n",
    "        height_str = input(\"Enter your height (feet.inches, e.g., 6.1 for 6 feet 1 inch): \")\n",
    "        \n",
    "        # Splitting feet and inches\n",
    "        if '.' in height_str:\n",
    "            feet, inches = map(int, height_str.split('.'))\n",
    "        else:\n",
    "            feet, inches = int(height_str), 0  # If no inches provided, assume 0\n",
    "\n",
    "        # Convert height to total inches\n",
    "        height = (feet * 12) + inches\n",
    "\n",
    "        # Validate input\n",
    "        if weight <= 0 or height <= 0:\n",
    "            print(\"Error: Weight and height must be positive numbers.\")\n",
    "            return\n",
    "\n",
    "        # BMI Calculation\n",
    "        BMI = (weight * 703) / (height ** 2)\n",
    "\n",
    "        # Display BMI result\n",
    "        print(f\"\\n{name}, your BMI is: {BMI:.2f}\")\n",
    "\n",
    "        # Determine BMI Category\n",
    "        if BMI < 18.5:\n",
    "            category = \"Underweight\"\n",
    "        elif 18.5 <= BMI <= 24.9:\n",
    "            category = \"Normal weight\"\n",
    "        elif 25 <= BMI <= 29.9:\n",
    "            category = \"Overweight\"\n",
    "        elif 30 <= BMI <= 34.9:\n",
    "            category = \"Obese\"\n",
    "        elif 35 <= BMI <= 39.9:\n",
    "            category = \"Severely obese\"\n",
    "        else:\n",
    "            category = \"Morbidly obese\"\n",
    "\n",
    "        print(f\"You are classified as: {category}\")\n",
    "\n",
    "    except ValueError:\n",
    "        print(\"Invalid input! Please enter numerical values correctly (e.g., weight in pounds, height as 6.1 for 6 feet 1 inch).\")\n",
    "\n",
    "# Run the function\n",
    "calculate_bmi()"
   ]
  },
  {
   "cell_type": "code",
   "execution_count": null,
   "id": "e9b854a7-494b-4d8a-81fc-1d0ef4c08fca",
   "metadata": {},
   "outputs": [],
   "source": []
  }
 ],
 "metadata": {
  "kernelspec": {
   "display_name": "Python [conda env:base] *",
   "language": "python",
   "name": "conda-base-py"
  },
  "language_info": {
   "codemirror_mode": {
    "name": "ipython",
    "version": 3
   },
   "file_extension": ".py",
   "mimetype": "text/x-python",
   "name": "python",
   "nbconvert_exporter": "python",
   "pygments_lexer": "ipython3",
   "version": "3.11.5"
  }
 },
 "nbformat": 4,
 "nbformat_minor": 5
}
